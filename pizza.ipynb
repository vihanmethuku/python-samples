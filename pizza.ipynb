{
  "nbformat": 4,
  "nbformat_minor": 0,
  "metadata": {
    "colab": {
      "provenance": [],
      "authorship_tag": "ABX9TyOda2kpv4KK5M5ZZXvsiKXk",
      "include_colab_link": true
    },
    "kernelspec": {
      "name": "python3",
      "display_name": "Python 3"
    },
    "language_info": {
      "name": "python"
    }
  },
  "cells": [
    {
      "cell_type": "markdown",
      "metadata": {
        "id": "view-in-github",
        "colab_type": "text"
      },
      "source": [
        "<a href=\"https://colab.research.google.com/github/vihanmethuku/python-samples/blob/main/pizza.ipynb\" target=\"_parent\"><img src=\"https://colab.research.google.com/assets/colab-badge.svg\" alt=\"Open In Colab\"/></a>"
      ]
    },
    {
      "cell_type": "code",
      "execution_count": null,
      "metadata": {
        "colab": {
          "base_uri": "https://localhost:8080/"
        },
        "id": "k7SHI0PEA2Kn",
        "outputId": "32fd2efa-90de-4b6e-bd47-cc6d0129ec9c"
      },
      "outputs": [
        {
          "output_type": "stream",
          "name": "stdout",
          "text": [
            "How many people are you serving?2\n",
            "Pizza recipe for:2.0\n",
            "dough: 0.5cups\n",
            "cheese: 1.0cups\n",
            "tomato sauce: 0.25cups\n",
            "pineapple: 1.0cups\n",
            "It will cost $9.0 to make a pizza for 2.0 people.\n"
          ]
        }
      ],
      "source": [
        "dough = 1\n",
        "cheese = 2\n",
        "tomatosauce = 0.5\n",
        "pineapple = 0.25\n",
        "\n",
        "doughprice = 1\n",
        "cheeseprice = 1\n",
        "tomatosauceprice = 0.5\n",
        "pineapple = 2\n",
        "\n",
        "totalCost = 0\n",
        "totalCost = totalCost * dough\n",
        "totalCost = totalCost * cheese\n",
        "totalCost = totalCost * tomatosauce\n",
        "totalCost = totalCost * pineapple\n",
        "\n",
        "people = int(input(\"How many people are you serving?\"))\n",
        "people = int(people)\n",
        "\n",
        "people = people/4\n",
        "\n",
        "dough = dough * people\n",
        "cheese = cheese * people\n",
        "tomatosauce = tomatosauce * people\n",
        "pineapple = pineapple * people\n",
        "\n",
        "print(\"Pizza recipe for:\" + str(people * 4))\n",
        "print(\"dough: \" + str(dough) + \"cups\")\n",
        "print(\"cheese: \" + str(cheese) + \"cups\")\n",
        "print(\"tomato sauce: \" + str(tomatosauce) + \"cups\")\n",
        "print(\"pineapple: \" + str(pineapple) + \"cups\")\n",
        "print(\"It will cost $\" + str(totalCost) + \" to make a pizza for \" + str(people * 4) + \" people.\")"
      ]
    }
  ]
}